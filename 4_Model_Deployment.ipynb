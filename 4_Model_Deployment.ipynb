{
 "cells": [
  {
   "cell_type": "code",
   "execution_count": 1,
   "id": "48e127e3-edab-4d6f-b654-f1b6a5f6b2a8",
   "metadata": {},
   "outputs": [],
   "source": [
    "import pandas as pd\n",
    "import joblib\n",
    "from flask import Flask, request, jsonify\n",
    "import nest_asyncio\n",
    "import requests"
   ]
  },
  {
   "cell_type": "code",
   "execution_count": 2,
   "id": "1be359db-3e81-4f18-a3fd-84efb6553f50",
   "metadata": {},
   "outputs": [],
   "source": [
    "model = joblib.load(\"fraud_model.pkl\")\n",
    "scaler = joblib.load(\"scaler.pkl\")"
   ]
  },
  {
   "cell_type": "code",
   "execution_count": 3,
   "id": "d2088c1e-072f-409b-90be-f03f296bfc89",
   "metadata": {},
   "outputs": [],
   "source": [
    "app = Flask(__name__)\n",
    "\n",
    "@app.route(\"/\", methods=[\"GET\"])\n",
    "def home():\n",
    "    return jsonify({\n",
    "        \"message\": \"Welcome to Fraud Detection API 🚀\",\n",
    "        \"usage\": \"Send POST request to /predict with transaction features\"\n",
    "    })\n",
    "\n",
    "@app.route(\"/predict\", methods=[\"POST\"])\n",
    "def predict():\n",
    "    try:\n",
    "        data = request.json.get(\"features\", None)\n",
    "        if data is None:\n",
    "            return jsonify({\"error\": \"No features provided\"}), 400\n",
    "\n",
    "        # Scale input\n",
    "        data_scaled = scaler.transform([data])\n",
    "\n",
    "        # Predict\n",
    "        prediction = model.predict(data_scaled)[0]\n",
    "        proba = model.predict_proba(data_scaled)[0][1]\n",
    "\n",
    "        return jsonify({\n",
    "            \"prediction\": int(prediction),\n",
    "            \"fraud_probability\": float(proba)\n",
    "        })\n",
    "\n",
    "    except Exception as e:\n",
    "        return jsonify({\"error\": str(e)}), 500\n"
   ]
  },
  {
   "cell_type": "code",
   "execution_count": 4,
   "id": "7ba8ab24-7020-4eaa-aca6-a30759d102c5",
   "metadata": {},
   "outputs": [
    {
     "name": "stdout",
     "output_type": "stream",
     "text": [
      " * Serving Flask app '__main__'\n",
      " * Debug mode: off\n"
     ]
    },
    {
     "name": "stderr",
     "output_type": "stream",
     "text": [
      "WARNING: This is a development server. Do not use it in a production deployment. Use a production WSGI server instead.\n",
      " * Running on http://127.0.0.1:5000\n",
      "Press CTRL+C to quit\n"
     ]
    }
   ],
   "source": [
    "nest_asyncio.apply()\n",
    "import threading\n",
    "\n",
    "# Run Flask in a separate thread so it doesn't block notebook\n",
    "def run_app():\n",
    "    app.run(port=5000, debug=False)\n",
    "\n",
    "thread = threading.Thread(target=run_app)\n",
    "thread.start()"
   ]
  },
  {
   "cell_type": "code",
   "execution_count": 5,
   "id": "a9146dd2-d095-41c8-a65b-aace5ec7597a",
   "metadata": {},
   "outputs": [
    {
     "name": "stdout",
     "output_type": "stream",
     "text": [
      " * Serving Flask app '__main__'\n",
      " * Debug mode: off\n"
     ]
    },
    {
     "name": "stderr",
     "output_type": "stream",
     "text": [
      "WARNING: This is a development server. Do not use it in a production deployment. Use a production WSGI server instead.\n",
      " * Running on http://127.0.0.1:5000\n",
      "Press CTRL+C to quit\n"
     ]
    }
   ],
   "source": [
    "nest_asyncio.apply()\n",
    "import threading\n",
    "\n",
    "# Run Flask in a separate thread so it doesn't block notebook\n",
    "def run_app():\n",
    "    app.run(port=5000, debug=False)\n",
    "\n",
    "thread = threading.Thread(target=run_app)\n",
    "thread.start()"
   ]
  },
  {
   "cell_type": "code",
   "execution_count": 6,
   "id": "06956faa-9976-4a35-9d63-429d062401ba",
   "metadata": {},
   "outputs": [
    {
     "name": "stdout",
     "output_type": "stream",
     "text": [
      "Sample features sent: [4540.0, 0.7097041094316437, -1.5893891629456645, 0.6281796338743251, 0.5495310353342123, -0.9170533082190097, 2.2561477912256724, -1.788121371221356, 1.4830216333882027, -0.4138265839713186, -0.2453448644076345, 0.3996645399237513, -1.7377658429010692, 2.7690154167356105, 0.2283992238003029, -1.386880244490189, -0.3014397056637175, -0.060842772517242, 0.1538334564439181, -0.8317281160974364, 1.1652874208045738, 1.23788961204178, 1.9927856337806635, 0.351999889889972, 1.1909668937220288, 1.749951596799084, -1.8164289875824653, 2.267908092066328, 0.7700360309265492, 42.18]\n",
      "Prediction response: {'fraud_probability': 0.02, 'prediction': 0}\n"
     ]
    }
   ],
   "source": [
    "data = pd.read_csv(\"creditcard_small.csv\")\n",
    "\n",
    "# Pick a random row\n",
    "sample_features = data.drop(\"Class\", axis=1).sample(1).values.flatten().tolist()\n",
    "\n",
    "# Send POST request\n",
    "response = requests.post(\n",
    "    \"http://127.0.0.1:5000/predict\",\n",
    "    json={\"features\": sample_features}\n",
    ")\n",
    "\n",
    "print(\"Sample features sent:\", sample_features)\n",
    "print(\"Prediction response:\", response.json())"
   ]
  },
  {
   "cell_type": "code",
   "execution_count": 7,
   "id": "b717bf94-ba1b-43aa-a70e-26a018f5727f",
   "metadata": {},
   "outputs": [
    {
     "name": "stdout",
     "output_type": "stream",
     "text": [
      "Home route response: {'message': 'Welcome to Fraud Detection API 🚀', 'usage': 'Send POST request to /predict with transaction features'}\n"
     ]
    }
   ],
   "source": [
    "home_response = requests.get(\"http://127.0.0.1:5000/\").json()\n",
    "print(\"Home route response:\", home_response)"
   ]
  },
  {
   "cell_type": "code",
   "execution_count": 8,
   "id": "1144cc77-f7c0-48c9-ad7a-0f5834b934b2",
   "metadata": {},
   "outputs": [
    {
     "ename": "SyntaxError",
     "evalue": "incomplete input (1217027992.py, line 3)",
     "output_type": "error",
     "traceback": [
      "\u001b[1;36m  Cell \u001b[1;32mIn[8], line 3\u001b[1;36m\u001b[0m\n\u001b[1;33m    print(response.json()\u001b[0m\n\u001b[1;37m                         ^\u001b[0m\n\u001b[1;31mSyntaxError\u001b[0m\u001b[1;31m:\u001b[0m incomplete input\n"
     ]
    }
   ],
   "source": [
    "import requests\n",
    "response = requests.get(\"http://127.0.0.1:5000/\")\n",
    "print(response.json()"
   ]
  },
  {
   "cell_type": "code",
   "execution_count": 9,
   "id": "5a6e21ae-003c-4058-9909-922d016e2c6f",
   "metadata": {},
   "outputs": [
    {
     "ename": "SyntaxError",
     "evalue": "incomplete input (1217027992.py, line 3)",
     "output_type": "error",
     "traceback": [
      "\u001b[1;36m  Cell \u001b[1;32mIn[9], line 3\u001b[1;36m\u001b[0m\n\u001b[1;33m    print(response.json()\u001b[0m\n\u001b[1;37m                         ^\u001b[0m\n\u001b[1;31mSyntaxError\u001b[0m\u001b[1;31m:\u001b[0m incomplete input\n"
     ]
    }
   ],
   "source": [
    "import requests\n",
    "response = requests.get(\"http://127.0.0.1:5000/\")\n",
    "print(response.json()"
   ]
  },
  {
   "cell_type": "code",
   "execution_count": 10,
   "id": "bf8e7968-8fca-4d25-8580-3a5a09498ee7",
   "metadata": {},
   "outputs": [
    {
     "name": "stdout",
     "output_type": "stream",
     "text": [
      "{'fraud_probability': 0.0, 'prediction': 0}\n"
     ]
    }
   ],
   "source": [
    "sample_features = [0.1, -1.2, 0.5, 0.0, -0.3, 1.1, 0.2, 0.0, -0.5, 0.3,\n",
    "                   0.1, -0.2, 0.4, 0.0, -0.1, 0.5, 0.2, -0.3, 0.1, 0.0,\n",
    "                   0.2, -0.1, 0.3, 0.0, -0.2, 0.1, 0.0, 0.2, -0.1, 0.0]  # replace with real 30 features\n",
    "\n",
    "response = requests.post(\n",
    "    \"http://127.0.0.1:5000/predict\",\n",
    "    json={\"features\": sample_features}\n",
    ")\n",
    "print(response.json())\n"
   ]
  },
  {
   "cell_type": "code",
   "execution_count": 11,
   "id": "230039dc-ddf7-4598-ae0b-578dfae39a1a",
   "metadata": {},
   "outputs": [
    {
     "name": "stdout",
     "output_type": "stream",
     "text": [
      "{'fraud_probability': 0.0, 'prediction': 0}\n"
     ]
    }
   ],
   "source": [
    "sample_features = [0.1, -1.2, 0.5, 0.0, -0.3, 1.1, 0.2, 0.0, -0.5, 0.3,\n",
    "                   0.1, -0.2, 0.4, 0.0, -0.1, 0.5, 0.2, -0.3, 0.1, 0.0,\n",
    "                   0.2, -0.1, 0.3, 0.0, -0.2, 0.1, 0.0, 0.2, -0.1, 0.0]  # replace with real 30 features\n",
    "\n",
    "response = requests.post(\n",
    "    \"http://127.0.0.1:5000/predict\",\n",
    "    json={\"features\": sample_features}\n",
    ")\n",
    "print(response.json())\n"
   ]
  },
  {
   "cell_type": "code",
   "execution_count": 12,
   "id": "aa3f439f-c1e2-4631-89d8-5410d8e44268",
   "metadata": {},
   "outputs": [
    {
     "ename": "NameError",
     "evalue": "name 'real_data' is not defined",
     "output_type": "error",
     "traceback": [
      "\u001b[1;31m---------------------------------------------------------------------------\u001b[0m",
      "\u001b[1;31mNameError\u001b[0m                                 Traceback (most recent call last)",
      "Cell \u001b[1;32mIn[12], line 4\u001b[0m\n\u001b[0;32m      1\u001b[0m \u001b[38;5;28;01mimport\u001b[39;00m \u001b[38;5;21;01mpandas\u001b[39;00m \u001b[38;5;28;01mas\u001b[39;00m \u001b[38;5;21;01mpd\u001b[39;00m\n\u001b[0;32m      3\u001b[0m \u001b[38;5;66;03m# Assuming you have feature columns from your training dataset\u001b[39;00m\n\u001b[1;32m----> 4\u001b[0m feature_columns \u001b[38;5;241m=\u001b[39m real_data\u001b[38;5;241m.\u001b[39mdrop(\u001b[38;5;124m\"\u001b[39m\u001b[38;5;124mClass\u001b[39m\u001b[38;5;124m\"\u001b[39m, axis\u001b[38;5;241m=\u001b[39m\u001b[38;5;241m1\u001b[39m)\u001b[38;5;241m.\u001b[39mcolumns\u001b[38;5;241m.\u001b[39mtolist()\n\u001b[0;32m      6\u001b[0m \u001b[38;5;66;03m# Inside your predict() function:\u001b[39;00m\n\u001b[0;32m      7\u001b[0m data_df \u001b[38;5;241m=\u001b[39m pd\u001b[38;5;241m.\u001b[39mDataFrame([data], columns\u001b[38;5;241m=\u001b[39mfeature_columns)  \u001b[38;5;66;03m# wrap list into DataFrame\u001b[39;00m\n",
      "\u001b[1;31mNameError\u001b[0m: name 'real_data' is not defined"
     ]
    }
   ],
   "source": [
    "import pandas as pd\n",
    "\n",
    "# Assuming you have feature columns from your training dataset\n",
    "feature_columns = real_data.drop(\"Class\", axis=1).columns.tolist()\n",
    "\n",
    "# Inside your predict() function:\n",
    "data_df = pd.DataFrame([data], columns=feature_columns)  # wrap list into DataFrame\n",
    "data_scaled = scaler.transform(data_df)"
   ]
  },
  {
   "cell_type": "code",
   "execution_count": 13,
   "id": "6139e0f8-74a8-43f5-bab3-c086a3af9a0e",
   "metadata": {},
   "outputs": [
    {
     "name": "stdout",
     "output_type": "stream",
     "text": [
      "Prediction: 0.0\n",
      "Fraud probability: 0.0\n"
     ]
    }
   ],
   "source": [
    "import pandas as pd\n",
    "import joblib\n",
    "\n",
    "# Load your dataset (same one used for training)\n",
    "real_data = pd.read_csv(\"creditcard_small.csv\")\n",
    "\n",
    "# Load your scaler & model\n",
    "scaler = joblib.load(\"scaler.pkl\")\n",
    "model = joblib.load(\"fraud_model.pkl\")\n",
    "\n",
    "# Get feature columns\n",
    "feature_columns = real_data.drop(\"Class\", axis=1).columns.tolist()\n",
    "\n",
    "# Example input data (replace with actual transaction features)\n",
    "data = [0.1, -1.2, 0.5, 0.0, -0.3, 1.1, 0.2, 0.0, -0.5, 0.3, \n",
    "        0.1, -0.2, 0.4, 0.0, -0.1, 0.5, 0.2, -0.3, 0.1, 0.0,\n",
    "        0.2, -0.1, 0.3, 0.0, -0.2, 0.1, 0.0, 0.2, -0.1, 0.0]\n",
    "\n",
    "# Convert list to DataFrame with correct column names\n",
    "data_df = pd.DataFrame([data], columns=feature_columns)\n",
    "\n",
    "# Scale & predict\n",
    "data_scaled = scaler.transform(data_df)\n",
    "prediction = model.predict(data_scaled)[0]\n",
    "proba = model.predict_proba(data_scaled)[0][1]\n",
    "\n",
    "print(\"Prediction:\", prediction)\n",
    "print(\"Fraud probability:\", proba)"
   ]
  },
  {
   "cell_type": "code",
   "execution_count": 14,
   "id": "af9e39b6-da3e-43cd-b412-ebc1c39b2cc0",
   "metadata": {},
   "outputs": [
    {
     "name": "stdout",
     "output_type": "stream",
     "text": [
      "Sample input row:\n",
      "         Time       V1       V2        V3        V4        V5        V6  \\\n",
      "1501  1501.0 -0.09871 -0.50428  0.468006 -0.721119  0.208212 -0.165399   \n",
      "\n",
      "           V7        V8       V9  ...      V20       V21       V22      V23  \\\n",
      "1501  0.71101 -0.213946 -1.03002  ... -0.00658  0.437767  0.810415 -0.01019   \n",
      "\n",
      "           V24       V25       V26       V27       V28  Amount  \n",
      "1501 -1.208506  0.299469  1.002222  0.593181  0.059304  753.97  \n",
      "\n",
      "[1 rows x 30 columns]\n",
      "Prediction: 0.0\n",
      "Fraud probability: 0.0\n"
     ]
    }
   ],
   "source": [
    "sample_row = real_data.drop(\"Class\", axis=1).sample(1, random_state=42)\n",
    "print(\"Sample input row:\\n\", sample_row)\n",
    "\n",
    "# Scale & predict\n",
    "data_scaled = scaler.transform(sample_row)\n",
    "prediction = model.predict(data_scaled)[0]\n",
    "proba = model.predict_proba(data_scaled)[0][1]\n",
    "\n",
    "print(\"Prediction:\", prediction)\n",
    "print(\"Fraud probability:\", proba)\n"
   ]
  },
  {
   "cell_type": "code",
   "execution_count": 15,
   "id": "12ef338e-4431-4654-9057-b3763033d41e",
   "metadata": {},
   "outputs": [
    {
     "name": "stdout",
     "output_type": "stream",
     "text": [
      "Prediction: 0.0\n",
      "Fraud probability: 0.01\n"
     ]
    }
   ],
   "source": [
    "fraud_row = real_data[real_data[\"Class\"] == 1].sample(1, random_state=42).drop(\"Class\", axis=1)\n",
    "data_scaled = scaler.transform(fraud_row)\n",
    "prediction = model.predict(data_scaled)[0]\n",
    "proba = model.predict_proba(data_scaled)[0][1]\n",
    "\n",
    "print(\"Prediction:\", prediction)\n",
    "print(\"Fraud probability:\", proba)"
   ]
  },
  {
   "cell_type": "code",
   "execution_count": 16,
   "id": "4f2412cf-c367-4fe9-8955-4e04b5c95860",
   "metadata": {},
   "outputs": [
    {
     "name": "stdout",
     "output_type": "stream",
     "text": [
      "✅ Fraud detection results for sample rows:\n"
     ]
    },
    {
     "data": {
      "text/html": [
       "<div>\n",
       "<style scoped>\n",
       "    .dataframe tbody tr th:only-of-type {\n",
       "        vertical-align: middle;\n",
       "    }\n",
       "\n",
       "    .dataframe tbody tr th {\n",
       "        vertical-align: top;\n",
       "    }\n",
       "\n",
       "    .dataframe thead th {\n",
       "        text-align: right;\n",
       "    }\n",
       "</style>\n",
       "<table border=\"1\" class=\"dataframe\">\n",
       "  <thead>\n",
       "    <tr style=\"text-align: right;\">\n",
       "      <th></th>\n",
       "      <th>Time</th>\n",
       "      <th>V1</th>\n",
       "      <th>V2</th>\n",
       "      <th>V3</th>\n",
       "      <th>V4</th>\n",
       "      <th>V5</th>\n",
       "      <th>V6</th>\n",
       "      <th>V7</th>\n",
       "      <th>V8</th>\n",
       "      <th>V9</th>\n",
       "      <th>...</th>\n",
       "      <th>V23</th>\n",
       "      <th>V24</th>\n",
       "      <th>V25</th>\n",
       "      <th>V26</th>\n",
       "      <th>V27</th>\n",
       "      <th>V28</th>\n",
       "      <th>Amount</th>\n",
       "      <th>Class</th>\n",
       "      <th>Prediction</th>\n",
       "      <th>Fraud_Probability</th>\n",
       "    </tr>\n",
       "  </thead>\n",
       "  <tbody>\n",
       "    <tr>\n",
       "      <th>1390</th>\n",
       "      <td>1390.0</td>\n",
       "      <td>0.455815</td>\n",
       "      <td>-0.594711</td>\n",
       "      <td>0.477390</td>\n",
       "      <td>-1.756810</td>\n",
       "      <td>-1.285390</td>\n",
       "      <td>0.475313</td>\n",
       "      <td>-0.630001</td>\n",
       "      <td>-0.323118</td>\n",
       "      <td>1.836285</td>\n",
       "      <td>...</td>\n",
       "      <td>-2.178584</td>\n",
       "      <td>-0.370523</td>\n",
       "      <td>0.736756</td>\n",
       "      <td>1.491277</td>\n",
       "      <td>0.190482</td>\n",
       "      <td>1.373229</td>\n",
       "      <td>162.55</td>\n",
       "      <td>1.0</td>\n",
       "      <td>0.0</td>\n",
       "      <td>0.01</td>\n",
       "    </tr>\n",
       "    <tr>\n",
       "      <th>4191</th>\n",
       "      <td>4191.0</td>\n",
       "      <td>-1.270967</td>\n",
       "      <td>0.337063</td>\n",
       "      <td>1.508598</td>\n",
       "      <td>0.754377</td>\n",
       "      <td>0.453360</td>\n",
       "      <td>0.651066</td>\n",
       "      <td>0.139402</td>\n",
       "      <td>-0.730925</td>\n",
       "      <td>-0.399863</td>\n",
       "      <td>...</td>\n",
       "      <td>-1.278591</td>\n",
       "      <td>-0.099751</td>\n",
       "      <td>-0.494260</td>\n",
       "      <td>-1.073611</td>\n",
       "      <td>0.661175</td>\n",
       "      <td>0.276945</td>\n",
       "      <td>8.89</td>\n",
       "      <td>1.0</td>\n",
       "      <td>1.0</td>\n",
       "      <td>0.66</td>\n",
       "    </tr>\n",
       "    <tr>\n",
       "      <th>3990</th>\n",
       "      <td>3990.0</td>\n",
       "      <td>0.297678</td>\n",
       "      <td>-0.072385</td>\n",
       "      <td>0.176100</td>\n",
       "      <td>1.840958</td>\n",
       "      <td>-0.812342</td>\n",
       "      <td>0.031660</td>\n",
       "      <td>-0.984634</td>\n",
       "      <td>-0.328941</td>\n",
       "      <td>0.573717</td>\n",
       "      <td>...</td>\n",
       "      <td>1.888220</td>\n",
       "      <td>-0.171947</td>\n",
       "      <td>-0.489064</td>\n",
       "      <td>-0.781605</td>\n",
       "      <td>-1.452619</td>\n",
       "      <td>-0.366927</td>\n",
       "      <td>46.46</td>\n",
       "      <td>1.0</td>\n",
       "      <td>1.0</td>\n",
       "      <td>0.59</td>\n",
       "    </tr>\n",
       "    <tr>\n",
       "      <th>990</th>\n",
       "      <td>990.0</td>\n",
       "      <td>-0.719405</td>\n",
       "      <td>0.194775</td>\n",
       "      <td>-0.180159</td>\n",
       "      <td>-0.401567</td>\n",
       "      <td>-1.658113</td>\n",
       "      <td>-0.514554</td>\n",
       "      <td>-1.110479</td>\n",
       "      <td>0.551648</td>\n",
       "      <td>0.991071</td>\n",
       "      <td>...</td>\n",
       "      <td>-0.155013</td>\n",
       "      <td>-0.163657</td>\n",
       "      <td>-1.563413</td>\n",
       "      <td>-1.087769</td>\n",
       "      <td>-0.068017</td>\n",
       "      <td>1.114356</td>\n",
       "      <td>72.54</td>\n",
       "      <td>1.0</td>\n",
       "      <td>1.0</td>\n",
       "      <td>0.64</td>\n",
       "    </tr>\n",
       "    <tr>\n",
       "      <th>3839</th>\n",
       "      <td>3839.0</td>\n",
       "      <td>1.064682</td>\n",
       "      <td>-0.305185</td>\n",
       "      <td>0.887073</td>\n",
       "      <td>0.699728</td>\n",
       "      <td>-0.737807</td>\n",
       "      <td>-2.574331</td>\n",
       "      <td>0.022554</td>\n",
       "      <td>1.240427</td>\n",
       "      <td>1.129516</td>\n",
       "      <td>...</td>\n",
       "      <td>0.960593</td>\n",
       "      <td>0.122363</td>\n",
       "      <td>-0.819686</td>\n",
       "      <td>-2.162230</td>\n",
       "      <td>0.278921</td>\n",
       "      <td>-1.520939</td>\n",
       "      <td>286.98</td>\n",
       "      <td>1.0</td>\n",
       "      <td>1.0</td>\n",
       "      <td>0.66</td>\n",
       "    </tr>\n",
       "    <tr>\n",
       "      <th>731</th>\n",
       "      <td>731.0</td>\n",
       "      <td>0.519637</td>\n",
       "      <td>-0.141137</td>\n",
       "      <td>1.264770</td>\n",
       "      <td>-0.321169</td>\n",
       "      <td>-0.983033</td>\n",
       "      <td>-1.063442</td>\n",
       "      <td>0.735469</td>\n",
       "      <td>0.029621</td>\n",
       "      <td>0.633716</td>\n",
       "      <td>...</td>\n",
       "      <td>0.806476</td>\n",
       "      <td>0.798439</td>\n",
       "      <td>-2.302118</td>\n",
       "      <td>-0.152545</td>\n",
       "      <td>1.384100</td>\n",
       "      <td>-0.438115</td>\n",
       "      <td>147.62</td>\n",
       "      <td>1.0</td>\n",
       "      <td>1.0</td>\n",
       "      <td>0.67</td>\n",
       "    </tr>\n",
       "    <tr>\n",
       "      <th>1201</th>\n",
       "      <td>1201.0</td>\n",
       "      <td>-2.036411</td>\n",
       "      <td>0.463451</td>\n",
       "      <td>0.048951</td>\n",
       "      <td>0.408927</td>\n",
       "      <td>0.171918</td>\n",
       "      <td>0.954235</td>\n",
       "      <td>-0.075482</td>\n",
       "      <td>1.012521</td>\n",
       "      <td>-0.775697</td>\n",
       "      <td>...</td>\n",
       "      <td>0.005471</td>\n",
       "      <td>0.086399</td>\n",
       "      <td>1.250003</td>\n",
       "      <td>-0.956289</td>\n",
       "      <td>-1.331512</td>\n",
       "      <td>0.602324</td>\n",
       "      <td>169.09</td>\n",
       "      <td>1.0</td>\n",
       "      <td>0.0</td>\n",
       "      <td>0.02</td>\n",
       "    </tr>\n",
       "    <tr>\n",
       "      <th>4895</th>\n",
       "      <td>4895.0</td>\n",
       "      <td>-0.234823</td>\n",
       "      <td>-0.462519</td>\n",
       "      <td>0.734265</td>\n",
       "      <td>1.614207</td>\n",
       "      <td>0.536882</td>\n",
       "      <td>-1.663417</td>\n",
       "      <td>-1.025395</td>\n",
       "      <td>-0.703525</td>\n",
       "      <td>-2.362996</td>\n",
       "      <td>...</td>\n",
       "      <td>0.594912</td>\n",
       "      <td>1.410484</td>\n",
       "      <td>0.200876</td>\n",
       "      <td>-0.923287</td>\n",
       "      <td>-1.619719</td>\n",
       "      <td>0.383132</td>\n",
       "      <td>116.28</td>\n",
       "      <td>1.0</td>\n",
       "      <td>1.0</td>\n",
       "      <td>0.67</td>\n",
       "    </tr>\n",
       "    <tr>\n",
       "      <th>589</th>\n",
       "      <td>589.0</td>\n",
       "      <td>-1.004340</td>\n",
       "      <td>-0.408896</td>\n",
       "      <td>0.209926</td>\n",
       "      <td>-0.632439</td>\n",
       "      <td>0.577206</td>\n",
       "      <td>0.720486</td>\n",
       "      <td>0.536290</td>\n",
       "      <td>1.025135</td>\n",
       "      <td>-0.904591</td>\n",
       "      <td>...</td>\n",
       "      <td>0.011332</td>\n",
       "      <td>0.676102</td>\n",
       "      <td>-0.215477</td>\n",
       "      <td>0.562979</td>\n",
       "      <td>-0.144587</td>\n",
       "      <td>1.823359</td>\n",
       "      <td>110.41</td>\n",
       "      <td>1.0</td>\n",
       "      <td>1.0</td>\n",
       "      <td>0.71</td>\n",
       "    </tr>\n",
       "    <tr>\n",
       "      <th>2976</th>\n",
       "      <td>2976.0</td>\n",
       "      <td>0.174034</td>\n",
       "      <td>-1.041227</td>\n",
       "      <td>-1.799634</td>\n",
       "      <td>-0.538383</td>\n",
       "      <td>1.524558</td>\n",
       "      <td>0.555619</td>\n",
       "      <td>1.484187</td>\n",
       "      <td>-0.034234</td>\n",
       "      <td>-0.038223</td>\n",
       "      <td>...</td>\n",
       "      <td>0.698238</td>\n",
       "      <td>0.920798</td>\n",
       "      <td>0.381095</td>\n",
       "      <td>-0.346146</td>\n",
       "      <td>0.585887</td>\n",
       "      <td>-1.014408</td>\n",
       "      <td>64.62</td>\n",
       "      <td>1.0</td>\n",
       "      <td>1.0</td>\n",
       "      <td>0.70</td>\n",
       "    </tr>\n",
       "  </tbody>\n",
       "</table>\n",
       "<p>10 rows × 33 columns</p>\n",
       "</div>"
      ],
      "text/plain": [
       "        Time        V1        V2        V3        V4        V5        V6  \\\n",
       "1390  1390.0  0.455815 -0.594711  0.477390 -1.756810 -1.285390  0.475313   \n",
       "4191  4191.0 -1.270967  0.337063  1.508598  0.754377  0.453360  0.651066   \n",
       "3990  3990.0  0.297678 -0.072385  0.176100  1.840958 -0.812342  0.031660   \n",
       "990    990.0 -0.719405  0.194775 -0.180159 -0.401567 -1.658113 -0.514554   \n",
       "3839  3839.0  1.064682 -0.305185  0.887073  0.699728 -0.737807 -2.574331   \n",
       "731    731.0  0.519637 -0.141137  1.264770 -0.321169 -0.983033 -1.063442   \n",
       "1201  1201.0 -2.036411  0.463451  0.048951  0.408927  0.171918  0.954235   \n",
       "4895  4895.0 -0.234823 -0.462519  0.734265  1.614207  0.536882 -1.663417   \n",
       "589    589.0 -1.004340 -0.408896  0.209926 -0.632439  0.577206  0.720486   \n",
       "2976  2976.0  0.174034 -1.041227 -1.799634 -0.538383  1.524558  0.555619   \n",
       "\n",
       "            V7        V8        V9  ...       V23       V24       V25  \\\n",
       "1390 -0.630001 -0.323118  1.836285  ... -2.178584 -0.370523  0.736756   \n",
       "4191  0.139402 -0.730925 -0.399863  ... -1.278591 -0.099751 -0.494260   \n",
       "3990 -0.984634 -0.328941  0.573717  ...  1.888220 -0.171947 -0.489064   \n",
       "990  -1.110479  0.551648  0.991071  ... -0.155013 -0.163657 -1.563413   \n",
       "3839  0.022554  1.240427  1.129516  ...  0.960593  0.122363 -0.819686   \n",
       "731   0.735469  0.029621  0.633716  ...  0.806476  0.798439 -2.302118   \n",
       "1201 -0.075482  1.012521 -0.775697  ...  0.005471  0.086399  1.250003   \n",
       "4895 -1.025395 -0.703525 -2.362996  ...  0.594912  1.410484  0.200876   \n",
       "589   0.536290  1.025135 -0.904591  ...  0.011332  0.676102 -0.215477   \n",
       "2976  1.484187 -0.034234 -0.038223  ...  0.698238  0.920798  0.381095   \n",
       "\n",
       "           V26       V27       V28  Amount  Class  Prediction  \\\n",
       "1390  1.491277  0.190482  1.373229  162.55    1.0         0.0   \n",
       "4191 -1.073611  0.661175  0.276945    8.89    1.0         1.0   \n",
       "3990 -0.781605 -1.452619 -0.366927   46.46    1.0         1.0   \n",
       "990  -1.087769 -0.068017  1.114356   72.54    1.0         1.0   \n",
       "3839 -2.162230  0.278921 -1.520939  286.98    1.0         1.0   \n",
       "731  -0.152545  1.384100 -0.438115  147.62    1.0         1.0   \n",
       "1201 -0.956289 -1.331512  0.602324  169.09    1.0         0.0   \n",
       "4895 -0.923287 -1.619719  0.383132  116.28    1.0         1.0   \n",
       "589   0.562979 -0.144587  1.823359  110.41    1.0         1.0   \n",
       "2976 -0.346146  0.585887 -1.014408   64.62    1.0         1.0   \n",
       "\n",
       "      Fraud_Probability  \n",
       "1390               0.01  \n",
       "4191               0.66  \n",
       "3990               0.59  \n",
       "990                0.64  \n",
       "3839               0.66  \n",
       "731                0.67  \n",
       "1201               0.02  \n",
       "4895               0.67  \n",
       "589                0.71  \n",
       "2976               0.70  \n",
       "\n",
       "[10 rows x 33 columns]"
      ]
     },
     "metadata": {},
     "output_type": "display_data"
    }
   ],
   "source": [
    "import pandas as pd\n",
    "import joblib\n",
    "\n",
    "# -----------------------------\n",
    "# Load model and scaler\n",
    "# -----------------------------\n",
    "model = joblib.load(\"fraud_model.pkl\")\n",
    "scaler = joblib.load(\"scaler.pkl\")\n",
    "\n",
    "# -----------------------------\n",
    "# Load real dataset\n",
    "# -----------------------------\n",
    "real_data = pd.read_csv(\"creditcard_small.csv\")\n",
    "\n",
    "# -----------------------------\n",
    "# Select multiple fraud rows\n",
    "# -----------------------------\n",
    "num_samples = 10  # How many fraud rows you want to test\n",
    "fraud_rows = real_data[real_data[\"Class\"] == 1].sample(num_samples, random_state=42)\n",
    "fraud_features = fraud_rows.drop(\"Class\", axis=1)\n",
    "\n",
    "# -----------------------------\n",
    "# Scale features\n",
    "# -----------------------------\n",
    "fraud_scaled = scaler.transform(fraud_features)\n",
    "\n",
    "# -----------------------------\n",
    "# Predict fraud\n",
    "# -----------------------------\n",
    "predictions = model.predict(fraud_scaled)\n",
    "probabilities = model.predict_proba(fraud_scaled)[:, 1]\n",
    "\n",
    "# -----------------------------\n",
    "# Show results\n",
    "# -----------------------------\n",
    "results = fraud_rows.copy()\n",
    "results[\"Prediction\"] = predictions\n",
    "results[\"Fraud_Probability\"] = probabilities\n",
    "\n",
    "print(\"✅ Fraud detection results for sample rows:\")\n",
    "display(results)"
   ]
  },
  {
   "cell_type": "code",
   "execution_count": 17,
   "id": "cc89fae1-dbb5-4772-a9ac-c9b6af4288c0",
   "metadata": {},
   "outputs": [
    {
     "name": "stdout",
     "output_type": "stream",
     "text": [
      "🔹 Fraud Detection Metrics on Real Fraud Transactions:\n",
      "Recall: 0.76\n",
      "Precision: 1.00\n",
      "F1-Score: 0.86\n",
      "Average Fraud Probability: 0.51\n"
     ]
    },
    {
     "data": {
      "image/png": "[encoded data removed]",
      "text/plain": [
       "<Figure size 800x500 with 1 Axes>"
      ]
     },
     "metadata": {},
     "output_type": "display_data"
    }
   ],
   "source": [
    "import pandas as pd\n",
    "import matplotlib.pyplot as plt\n",
    "from sklearn.metrics import precision_score, recall_score, f1_score\n",
    "\n",
    "# Load real dataset\n",
    "real_data = pd.read_csv(\"creditcard_small.csv\")\n",
    "\n",
    "# Separate features and target\n",
    "X_real = real_data.drop(\"Class\", axis=1)\n",
    "y_real = real_data[\"Class\"]\n",
    "\n",
    "# Scale features\n",
    "X_scaled = scaler.transform(X_real)\n",
    "\n",
    "# Predict on the real dataset\n",
    "y_pred = model.predict(X_scaled)\n",
    "y_proba = model.predict_proba(X_scaled)[:, 1]\n",
    "\n",
    "# Create a DataFrame with actual, prediction, and probability\n",
    "results = real_data.copy()\n",
    "results[\"Prediction\"] = y_pred\n",
    "results[\"Fraud_Probability\"] = y_proba\n",
    "\n",
    "# Filter only fraud rows\n",
    "fraud_results = results[results[\"Class\"] == 1]\n",
    "\n",
    "# Compute metrics on frauds\n",
    "recall = recall_score(fraud_results[\"Class\"], fraud_results[\"Prediction\"])\n",
    "precision = precision_score(fraud_results[\"Class\"], fraud_results[\"Prediction\"])\n",
    "f1 = f1_score(fraud_results[\"Class\"], fraud_results[\"Prediction\"])\n",
    "avg_prob = fraud_results[\"Fraud_Probability\"].mean()\n",
    "\n",
    "print(\"🔹 Fraud Detection Metrics on Real Fraud Transactions:\")\n",
    "print(f\"Recall: {recall:.2f}\")\n",
    "print(f\"Precision: {precision:.2f}\")\n",
    "print(f\"F1-Score: {f1:.2f}\")\n",
    "print(f\"Average Fraud Probability: {avg_prob:.2f}\")\n",
    "\n",
    "# Plot histogram of fraud probabilities\n",
    "plt.figure(figsize=(8,5))\n",
    "plt.hist(fraud_results[\"Fraud_Probability\"], bins=20, color='orange', edgecolor='k', alpha=0.7)\n",
    "plt.title(\"Distribution of Predicted Fraud Probabilities (Fraud Transactions)\")\n",
    "plt.xlabel(\"Fraud Probability\")\n",
    "plt.ylabel(\"Count\")\n",
    "plt.show()\n"
   ]
  },
  {
   "cell_type": "code",
   "execution_count": 18,
   "id": "cc7cbde3-390a-4d71-970c-3aa483e1dd2e",
   "metadata": {},
   "outputs": [
    {
     "data": {
      "image/png": "[encoded data removed]",
      "text/plain": [
       "<Figure size 1000x600 with 1 Axes>"
      ]
     },
     "metadata": {},
     "output_type": "display_data"
    },
    {
     "name": "stdout",
     "output_type": "stream",
     "text": [
      "✅ Chart saved as model_performance_comparison.png\n"
     ]
    }
   ],
   "source": [
    "import matplotlib.pyplot as plt\n",
    "import numpy as np\n",
    "\n",
    "# Example metrics collected from your evaluation\n",
    "metrics = {\n",
    "    \"Recall\": [0.55, 0.76],       # Real-only vs Augmented\n",
    "    \"Precision\": [1.0, 1.0],\n",
    "    \"F1-Score\": [0.71, 0.86],\n",
    "    \"ROC-AUC\": [0.85, 0.93]\n",
    "}\n",
    "\n",
    "labels = [\"Real Data\", \"Augmented Data\"]\n",
    "\n",
    "# Create bar plots\n",
    "x = np.arange(len(metrics))\n",
    "width = 0.35\n",
    "\n",
    "fig, ax = plt.subplots(figsize=(10,6))\n",
    "\n",
    "for i, metric in enumerate(metrics):\n",
    "    ax.bar(x[i] - width/2, metrics[metric][0], width, label=f\"{metric} (Real)\")\n",
    "    ax.bar(x[i] + width/2, metrics[metric][1], width, label=f\"{metric} (Augmented)\")\n",
    "\n",
    "ax.set_xticks(x)\n",
    "ax.set_xticklabels(list(metrics.keys()))\n",
    "ax.set_ylabel(\"Score\")\n",
    "ax.set_title(\"Model Performance: Real Data vs Augmented Data\")\n",
    "ax.legend()\n",
    "plt.ylim(0,1.1)\n",
    "plt.show()\n",
    "\n",
    "# ✅ Save the chart AFTER plotting\n",
    "fig.savefig(\"model_performance_comparison.png\", dpi=300, bbox_inches='tight')\n",
    "print(\"✅ Chart saved as model_performance_comparison.png\")\n"
   ]
  },
  {
   "cell_type": "code",
   "execution_count": 19,
   "id": "889cbc2e-d57e-46fe-8c76-de4b2d122d09",
   "metadata": {},
   "outputs": [
    {
     "name": "stdout",
     "output_type": "stream",
     "text": [
      "✅ Metrics saved as metrics.pkl\n"
     ]
    }
   ],
   "source": [
    "import joblib\n",
    "\n",
    "# Metrics from 3_Model_Training.ipynb evaluation\n",
    "metrics = {\n",
    "    \"Recall\": [0.55, 0.76],       # Real-only vs Augmented\n",
    "    \"Precision\": [1.0, 1.0],\n",
    "    \"F1-Score\": [0.71, 0.86],\n",
    "    \"ROC-AUC\": [0.85, 0.93]\n",
    "}\n",
    "\n",
    "joblib.dump(metrics, \"metrics.pkl\")\n",
    "print(\"✅ Metrics saved as metrics.pkl\")"
   ]
  },
  {
   "cell_type": "code",
   "execution_count": null,
   "id": "49d4fca8-4bf0-4d86-9630-3ac185d69766",
   "metadata": {},
   "outputs": [
    {
     "name": "stdout",
     "output_type": "stream",
     "text": [
      " * Serving Flask app '__main__'\n",
      " * Debug mode: off\n"
     ]
    },
    {
     "name": "stderr",
     "output_type": "stream",
     "text": [
      "WARNING: This is a development server. Do not use it in a production deployment. Use a production WSGI server instead.\n",
      " * Running on http://127.0.0.1:5000\n",
      "Press CTRL+C to quit\n"
     ]
    }
   ],
   "source": [
    "import nest_asyncio\n",
    "from flask import Flask, request, jsonify\n",
    "\n",
    "# Apply patch for Jupyter\n",
    "nest_asyncio.apply()\n",
    "\n",
    "# Flask app\n",
    "app = Flask(__name__)\n",
    "\n",
    "@app.route(\"/\", methods=[\"GET\"])\n",
    "def home():\n",
    "    return jsonify({\"message\": \"API is running 🚀\"})\n",
    "\n",
    "# Run Flask app\n",
    "if __name__ == \"__main__\":\n",
    "    app.run(port=5000, debug=False)\n"
   ]
  },
  {
   "cell_type": "code",
   "execution_count": null,
   "id": "c221f604-8498-45e7-a15f-c59d7353268f",
   "metadata": {},
   "outputs": [],
   "source": [
    "import requests\n",
    "import pandas as pd\n",
    "\n",
    "# Load dataset if not already\n",
    "real_data = pd.read_csv(\"creditcard_small.csv\")\n",
    "feature_columns = real_data.drop(\"Class\", axis=1).columns.tolist()\n",
    "\n",
    "# Function to send features to API and get prediction\n",
    "def get_prediction(features):\n",
    "    response = requests.post(\n",
    "        \"http://127.0.0.1:5000/predict\",\n",
    "        json={\"features\": features}\n",
    "    )\n",
    "    return response.json()\n",
    "\n",
    "# Pick a random normal row\n",
    "normal_row = real_data[real_data[\"Class\"] == 0].sample(1, random_state=42)\n",
    "normal_features = normal_row.drop(\"Class\", axis=1).values[0].tolist()\n",
    "\n",
    "# Pick a random fraud row\n",
    "fraud_row = real_data[real_data[\"Class\"] == 1].sample(1, random_state=42)\n",
    "fraud_features = fraud_row.drop(\"Class\", axis=1).values[0].tolist()\n",
    "\n",
    "# Get predictions\n",
    "normal_pred = get_prediction(normal_features)\n",
    "fraud_pred = get_prediction(fraud_features)\n",
    "\n",
    "# Display results\n",
    "print(\"✅ Normal Transaction Prediction:\")\n",
    "print(f\"Prediction: {normal_pred['prediction']}, Fraud Probability: {normal_pred['fraud_probability']:.2f}\\n\")\n",
    "\n",
    "print(\"🔥 Fraud Transaction Prediction:\")\n",
    "print(f\"Prediction: {fraud_pred['prediction']}, Fraud Probability: {fraud_pred['fraud_probability']:.2f}\")\n"
   ]
  },
  {
   "cell_type": "code",
   "execution_count": null,
   "id": "5a35d047-7c5c-498e-8bff-18dd933927da",
   "metadata": {},
   "outputs": [],
   "source": []
  }
 ],
 "metadata": {
  "kernelspec": {
   "display_name": "Python 3 (ipykernel)",
   "language": "python",
   "name": "python3"
  },
  "language_info": {
   "codemirror_mode": {
    "name": "ipython",
    "version": 3
   },
   "file_extension": ".py",
   "mimetype": "text/x-python",
   "name": "python",
   "nbconvert_exporter": "python",
   "pygments_lexer": "ipython3",
   "version": "3.12.3"
  }
 },
 "nbformat": 4,
 "nbformat_minor": 5
}
